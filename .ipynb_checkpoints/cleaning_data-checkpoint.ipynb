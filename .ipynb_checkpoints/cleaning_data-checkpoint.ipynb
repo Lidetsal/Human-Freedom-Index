{
 "cells": [
  {
   "cell_type": "code",
   "execution_count": 3,
   "metadata": {},
   "outputs": [],
   "source": [
    "import pandas as pd\n",
    "\n",
    "import seaborn as sns\n",
    "import matplotlib.pyplot as plt\n",
    "%matplotlib inline"
   ]
  },
  {
   "cell_type": "code",
   "execution_count": 4,
   "metadata": {},
   "outputs": [
    {
     "data": {
      "text/html": [
       "<div>\n",
       "<style scoped>\n",
       "    .dataframe tbody tr th:only-of-type {\n",
       "        vertical-align: middle;\n",
       "    }\n",
       "\n",
       "    .dataframe tbody tr th {\n",
       "        vertical-align: top;\n",
       "    }\n",
       "\n",
       "    .dataframe thead th {\n",
       "        text-align: right;\n",
       "    }\n",
       "</style>\n",
       "<table border=\"1\" class=\"dataframe\">\n",
       "  <thead>\n",
       "    <tr style=\"text-align: right;\">\n",
       "      <th></th>\n",
       "      <th>year</th>\n",
       "      <th>hf_score</th>\n",
       "      <th>pf_rol</th>\n",
       "      <th>pf_ss</th>\n",
       "      <th>pf_movement</th>\n",
       "      <th>pf_religion</th>\n",
       "      <th>pf_association</th>\n",
       "      <th>pf_expression</th>\n",
       "      <th>pf_identity</th>\n",
       "      <th>ef_government</th>\n",
       "      <th>ef_legal</th>\n",
       "      <th>ef_money</th>\n",
       "      <th>ef_trade</th>\n",
       "      <th>ef_trade_regulatory</th>\n",
       "    </tr>\n",
       "  </thead>\n",
       "  <tbody>\n",
       "    <tr>\n",
       "      <th>0</th>\n",
       "      <td>2017</td>\n",
       "      <td>7.84</td>\n",
       "      <td>5.3</td>\n",
       "      <td>9.3</td>\n",
       "      <td>10</td>\n",
       "      <td>9.2</td>\n",
       "      <td>10</td>\n",
       "      <td>8.6</td>\n",
       "      <td>5.8</td>\n",
       "      <td>7.5</td>\n",
       "      <td>5.1</td>\n",
       "      <td>9.6</td>\n",
       "      <td>8.3</td>\n",
       "      <td>7.7</td>\n",
       "    </tr>\n",
       "    <tr>\n",
       "      <th>1</th>\n",
       "      <td>2017</td>\n",
       "      <td>4.99</td>\n",
       "      <td>3.8</td>\n",
       "      <td>7.8</td>\n",
       "      <td>5.8</td>\n",
       "      <td>4.9</td>\n",
       "      <td>5</td>\n",
       "      <td>7.3</td>\n",
       "      <td>0</td>\n",
       "      <td>3.6</td>\n",
       "      <td>4.7</td>\n",
       "      <td>7.3</td>\n",
       "      <td>2.8</td>\n",
       "      <td>2.6</td>\n",
       "    </tr>\n",
       "    <tr>\n",
       "      <th>2</th>\n",
       "      <td>2017</td>\n",
       "      <td>5.4</td>\n",
       "      <td>3.4</td>\n",
       "      <td>8.1</td>\n",
       "      <td>6.7</td>\n",
       "      <td>8.8</td>\n",
       "      <td>4</td>\n",
       "      <td>6.5</td>\n",
       "      <td>5</td>\n",
       "      <td>6.8</td>\n",
       "      <td>3</td>\n",
       "      <td>5.6</td>\n",
       "      <td>3.2</td>\n",
       "      <td>3.7</td>\n",
       "    </tr>\n",
       "    <tr>\n",
       "      <th>3</th>\n",
       "      <td>2017</td>\n",
       "      <td>6.86</td>\n",
       "      <td>5.7</td>\n",
       "      <td>8.8</td>\n",
       "      <td>10</td>\n",
       "      <td>7.8</td>\n",
       "      <td>7.5</td>\n",
       "      <td>8.7</td>\n",
       "      <td>10</td>\n",
       "      <td>5.7</td>\n",
       "      <td>4</td>\n",
       "      <td>6.5</td>\n",
       "      <td>6.5</td>\n",
       "      <td>4.9</td>\n",
       "    </tr>\n",
       "    <tr>\n",
       "      <th>4</th>\n",
       "      <td>2017</td>\n",
       "      <td>7.42</td>\n",
       "      <td>4.9</td>\n",
       "      <td>9.1</td>\n",
       "      <td>8.3</td>\n",
       "      <td>6.2</td>\n",
       "      <td>6.5</td>\n",
       "      <td>7.2</td>\n",
       "      <td>8.2</td>\n",
       "      <td>7.4</td>\n",
       "      <td>5.9</td>\n",
       "      <td>9.5</td>\n",
       "      <td>8.2</td>\n",
       "      <td>7.4</td>\n",
       "    </tr>\n",
       "  </tbody>\n",
       "</table>\n",
       "</div>"
      ],
      "text/plain": [
       "   year hf_score pf_rol pf_ss pf_movement pf_religion pf_association  \\\n",
       "0  2017     7.84    5.3   9.3          10         9.2             10   \n",
       "1  2017     4.99    3.8   7.8         5.8         4.9              5   \n",
       "2  2017      5.4    3.4   8.1         6.7         8.8              4   \n",
       "3  2017     6.86    5.7   8.8          10         7.8            7.5   \n",
       "4  2017     7.42    4.9   9.1         8.3         6.2            6.5   \n",
       "\n",
       "  pf_expression pf_identity ef_government ef_legal ef_money ef_trade  \\\n",
       "0           8.6         5.8           7.5      5.1      9.6      8.3   \n",
       "1           7.3           0           3.6      4.7      7.3      2.8   \n",
       "2           6.5           5           6.8        3      5.6      3.2   \n",
       "3           8.7          10           5.7        4      6.5      6.5   \n",
       "4           7.2         8.2           7.4      5.9      9.5      8.2   \n",
       "\n",
       "  ef_trade_regulatory  \n",
       "0                 7.7  \n",
       "1                 2.6  \n",
       "2                 3.7  \n",
       "3                 4.9  \n",
       "4                 7.4  "
      ]
     },
     "execution_count": 4,
     "metadata": {},
     "output_type": "execute_result"
    }
   ],
   "source": [
    "freedom_df = pd.read_csv(\"Data/hfi_cc_2019.csv\")[['year', 'hf_score', 'pf_rol', \n",
    "                                                  'pf_ss', 'pf_movement','pf_religion', \n",
    "                                                  'pf_association', 'pf_expression', \n",
    "                                                  'pf_identity', 'ef_government', 'ef_legal', \n",
    "                                                  'ef_money', 'ef_trade', 'ef_trade_regulatory']]\n",
    "freedom_df.head()"
   ]
  },
  {
   "cell_type": "markdown",
   "metadata": {},
   "source": [
    "### Cleaning Data"
   ]
  },
  {
   "cell_type": "code",
   "execution_count": 5,
   "metadata": {},
   "outputs": [
    {
     "data": {
      "text/plain": [
       "'\\nEvery column consist of \\nobjects.\\n'"
      ]
     },
     "execution_count": 5,
     "metadata": {},
     "output_type": "execute_result"
    }
   ],
   "source": [
    "freedom_df.dtypes\n",
    "\"\"\"\n",
    "Every column consist of \n",
    "objects.\n",
    "\"\"\""
   ]
  },
  {
   "cell_type": "code",
   "execution_count": 6,
   "metadata": {},
   "outputs": [],
   "source": [
    "# Selecting desired year\n",
    "def year(df, year):\n",
    "    \"\"\"\n",
    "    Able to select rows with\n",
    "    desired year\n",
    "    \"\"\"\n",
    "    return df.loc[df[\"year\"] == year]\n",
    "\n",
    "freedom_df = year(freedom_df, 2017)"
   ]
  },
  {
   "cell_type": "code",
   "execution_count": 7,
   "metadata": {},
   "outputs": [
    {
     "data": {
      "text/plain": [
       "(162, 14)"
      ]
     },
     "execution_count": 7,
     "metadata": {},
     "output_type": "execute_result"
    }
   ],
   "source": [
    "freedom_df.shape"
   ]
  },
  {
   "cell_type": "markdown",
   "metadata": {},
   "source": [
    "Missing values in this dataset are filled with a dash(-)"
   ]
  },
  {
   "cell_type": "code",
   "execution_count": 8,
   "metadata": {},
   "outputs": [
    {
     "data": {
      "text/plain": [
       "26"
      ]
     },
     "execution_count": 8,
     "metadata": {},
     "output_type": "execute_result"
    }
   ],
   "source": [
    "# Finding rows with missing values\n",
    "missing_values = freedom_df.loc[freedom_df.pf_association == \"-\"]  # All nulls are located in pf_association column\n",
    "len(missing_values)  # 26/162 16.04% of our data is cut out"
   ]
  },
  {
   "cell_type": "code",
   "execution_count": 9,
   "metadata": {},
   "outputs": [],
   "source": [
    "# Dropping missing values\n",
    "freedom_df = freedom_df.drop(index=missing_values.index)"
   ]
  },
  {
   "cell_type": "code",
   "execution_count": 10,
   "metadata": {},
   "outputs": [
    {
     "data": {
      "text/plain": [
       "(136, 14)"
      ]
     },
     "execution_count": 10,
     "metadata": {},
     "output_type": "execute_result"
    }
   ],
   "source": [
    "freedom_df.shape"
   ]
  },
  {
   "cell_type": "markdown",
   "metadata": {},
   "source": [
    "### Change data types"
   ]
  },
  {
   "cell_type": "code",
   "execution_count": 11,
   "metadata": {},
   "outputs": [
    {
     "data": {
      "text/plain": [
       "year                   float64\n",
       "hf_score               float64\n",
       "pf_rol                 float64\n",
       "pf_ss                  float64\n",
       "pf_movement            float64\n",
       "pf_religion            float64\n",
       "pf_association         float64\n",
       "pf_expression          float64\n",
       "pf_identity            float64\n",
       "ef_government          float64\n",
       "ef_legal               float64\n",
       "ef_money               float64\n",
       "ef_trade               float64\n",
       "ef_trade_regulatory    float64\n",
       "dtype: object"
      ]
     },
     "execution_count": 11,
     "metadata": {},
     "output_type": "execute_result"
    }
   ],
   "source": [
    "# Changing all objects to floats\n",
    "freedom_df = freedom_df.astype(float)\n",
    "freedom_df.dtypes"
   ]
  },
  {
   "cell_type": "markdown",
   "metadata": {},
   "source": [
    "### Removing outliers\n",
    "\n",
    "Removing outliers will help the regression model with accuracy"
   ]
  },
  {
   "cell_type": "code",
   "execution_count": 73,
   "metadata": {},
   "outputs": [
    {
     "data": {
      "text/plain": [
       "<matplotlib.axes._subplots.AxesSubplot at 0x135d41be0>"
      ]
     },
     "execution_count": 73,
     "metadata": {},
     "output_type": "execute_result"
    },
    {
     "data": {
      "image/png": "[encoded data removed]",
      "text/plain": [
       "<Figure size 720x648 with 8 Axes>"
      ]
     },
     "metadata": {
      "needs_background": "light"
     },
     "output_type": "display_data"
    }
   ],
   "source": [
    "# Creating subplots to plot the outliers in the dataframe\n",
    "# Everything is in order from left to right\n",
    "\n",
    "fig, ax = plt.subplots(2, 4, figsize=(10, 9))\n",
    "sns.boxplot(data=freedom_df.pf_ss, ax=ax[0][0])\n",
    "sns.boxplot(data=freedom_df.pf_movement, ax=ax[0][1])\n",
    "sns.boxplot(data=freedom_df.pf_religion, ax=ax[0][2])\n",
    "sns.boxplot(data=freedom_df.pf_expression, ax=ax[0][3])\n",
    "sns.boxplot(data=freedom_df.ef_government, ax=ax[1][0])\n",
    "sns.boxplot(data=freedom_df.ef_money, ax=ax[1][1])\n",
    "sns.boxplot(data=freedom_df.ef_trade, ax=ax[1][2])"
   ]
  },
  {
   "cell_type": "markdown",
   "metadata": {},
   "source": [
    "# Do Not Run These Cells"
   ]
  },
  {
   "cell_type": "code",
   "execution_count": 64,
   "metadata": {},
   "outputs": [],
   "source": [
    "# Removing outliers in pf_ss\n",
    "\"\"\"\n",
    "There are 3 outliers\n",
    "that are lower than the\n",
    "min value of 4.9 or 5\n",
    "\"\"\"\n",
    "freedom_df.pf_ss.unique()  # Looking at all of the values\n",
    "\n",
    "# pf_ss values have to be than 4.8\n",
    "freedom_df = freedom_df.loc[freedom_df.pf_ss > 4.8]"
   ]
  },
  {
   "cell_type": "code",
   "execution_count": 65,
   "metadata": {},
   "outputs": [],
   "source": [
    "# Removing outliers in pf_movement\n",
    "\"\"\"\n",
    "There are 3 outliers\n",
    "that are lower than the\n",
    "min of 2.3\n",
    "\"\"\"\n",
    "freedom_df.pf_movement.unique()\n",
    "\n",
    "freedom_df = freedom_df.loc[freedom_df.pf_movement > 3]"
   ]
  },
  {
   "cell_type": "code",
   "execution_count": 66,
   "metadata": {},
   "outputs": [],
   "source": [
    "# Removing outliers from pf_religion\n",
    "\"\"\"\n",
    "There is 1 outlier\n",
    "that is below the min\n",
    "of 3\n",
    "\"\"\"\n",
    "freedom_df.pf_religion.unique()\n",
    "\n",
    "freedom_df = freedom_df.loc[freedom_df.pf_religion > 5.5]"
   ]
  },
  {
   "cell_type": "code",
   "execution_count": 67,
   "metadata": {},
   "outputs": [],
   "source": [
    "# Removing outliers from pf_expression\n",
    "\"\"\"\n",
    "There is 1 outlier\n",
    "that is below the min\n",
    "value of 3.5\n",
    "\"\"\"\n",
    "freedom_df.pf_expression.unique()\n",
    "\n",
    "freedom_df = freedom_df.loc[freedom_df.pf_expression > 5]"
   ]
  },
  {
   "cell_type": "code",
   "execution_count": 68,
   "metadata": {},
   "outputs": [],
   "source": [
    "# Removing outliers from ef_government\n",
    "\"\"\"\n",
    "There is 1 outlier\n",
    "that is below the min\n",
    "value of 3.5\n",
    "\"\"\"\n",
    "freedom_df.ef_government.values.min()  # lowest value is 3.6\n",
    "\n",
    "freedom_df = freedom_df.loc[freedom_df.ef_government > 3.6]"
   ]
  },
  {
   "cell_type": "code",
   "execution_count": 69,
   "metadata": {},
   "outputs": [],
   "source": [
    "# Removing outliers from ef_money\n",
    "\"\"\"\n",
    "There is 1 outlier\n",
    "that is below the min value\n",
    "of 4.3\n",
    "\"\"\"\n",
    "freedom_df = freedom_df.loc[freedom_df.ef_money > 5.9]"
   ]
  },
  {
   "cell_type": "code",
   "execution_count": 70,
   "metadata": {},
   "outputs": [],
   "source": [
    "# Removing outliers from ef_trade\n",
    "\"\"\"\n",
    "There are 4 outliers\n",
    "that are below the min\n",
    "value of 4.6\n",
    "\"\"\"\n",
    "freedom_df.ef_trade.unique()\n",
    "\n",
    "freedom_df = freedom_df.loc[freedom_df.ef_trade > 4]"
   ]
  },
  {
   "cell_type": "code",
   "execution_count": 71,
   "metadata": {},
   "outputs": [],
   "source": [
    "# Function that gets rid of outliers in the data\n",
    "def outliers():\n",
    "    freedom_df = freedom_df.loc[freedom_df.pf_ss > 4.8]\n",
    "    freedom_df = freedom_df.loc[freedom_df.pf_movement > 2]\n",
    "    freedom_df = freedom_df.loc[freedom_df.pf_religion > 0]\n",
    "    freedom_df = freedom_df.loc[freedom_df.pf_expression > 3.2]\n",
    "    freedom_df = freedom_df.loc[freedom_df.ef_government > 3.6]\n",
    "    freedom_df = freedom_df.loc[freedom_df.ef_money > 2]\n",
    "    freedom_df = freedom_df.loc[freedom_df.ef_trade > 4]"
   ]
  },
  {
   "cell_type": "code",
   "execution_count": 72,
   "metadata": {},
   "outputs": [
    {
     "data": {
      "text/plain": [
       "(98, 14)"
      ]
     },
     "execution_count": 72,
     "metadata": {},
     "output_type": "execute_result"
    }
   ],
   "source": [
    "freedom_df.shape"
   ]
  }
 ],
 "metadata": {
  "kernelspec": {
   "display_name": "Python 3",
   "language": "python",
   "name": "python3"
  },
  "language_info": {
   "codemirror_mode": {
    "name": "ipython",
    "version": 3
   },
   "file_extension": ".py",
   "mimetype": "text/x-python",
   "name": "python",
   "nbconvert_exporter": "python",
   "pygments_lexer": "ipython3",
   "version": "3.8.1"
  }
 },
 "nbformat": 4,
 "nbformat_minor": 4
}
