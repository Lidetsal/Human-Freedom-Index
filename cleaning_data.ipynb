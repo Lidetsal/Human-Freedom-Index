{
 "cells": [
  {
   "cell_type": "code",
   "execution_count": 1,
   "metadata": {},
   "outputs": [],
   "source": [
    "import pandas as pd\n",
    "import requests\n",
    "import json\n",
    "\n",
    "import seaborn as sns\n",
    "import matplotlib.pyplot as plt\n",
    "%matplotlib inline\n",
    "\n",
    "from sklearn.model_selection import train_test_split\n",
    "\n",
    "from sklearn.linear_model import LinearRegression\n",
    "\n",
    "from sklearn.preprocessing import PolynomialFeatures\n",
    "from sklearn.preprocessing import OneHotEncoder"
   ]
  },
  {
   "cell_type": "code",
   "execution_count": 2,
   "metadata": {},
   "outputs": [
    {
     "data": {
      "text/html": [
       "<div>\n",
       "<style scoped>\n",
       "    .dataframe tbody tr th:only-of-type {\n",
       "        vertical-align: middle;\n",
       "    }\n",
       "\n",
       "    .dataframe tbody tr th {\n",
       "        vertical-align: top;\n",
       "    }\n",
       "\n",
       "    .dataframe thead th {\n",
       "        text-align: right;\n",
       "    }\n",
       "</style>\n",
       "<table border=\"1\" class=\"dataframe\">\n",
       "  <thead>\n",
       "    <tr style=\"text-align: right;\">\n",
       "      <th></th>\n",
       "      <th>year</th>\n",
       "      <th>hf_score</th>\n",
       "      <th>pf_rol</th>\n",
       "      <th>pf_ss</th>\n",
       "      <th>pf_movement</th>\n",
       "      <th>pf_religion</th>\n",
       "      <th>pf_association</th>\n",
       "      <th>pf_expression</th>\n",
       "      <th>pf_identity</th>\n",
       "      <th>ef_government</th>\n",
       "      <th>ef_legal</th>\n",
       "      <th>ef_money</th>\n",
       "      <th>ef_trade</th>\n",
       "      <th>ef_trade_regulatory</th>\n",
       "    </tr>\n",
       "  </thead>\n",
       "  <tbody>\n",
       "    <tr>\n",
       "      <th>0</th>\n",
       "      <td>2017</td>\n",
       "      <td>7.84</td>\n",
       "      <td>5.3</td>\n",
       "      <td>9.3</td>\n",
       "      <td>10</td>\n",
       "      <td>9.2</td>\n",
       "      <td>10</td>\n",
       "      <td>8.6</td>\n",
       "      <td>5.8</td>\n",
       "      <td>7.5</td>\n",
       "      <td>5.1</td>\n",
       "      <td>9.6</td>\n",
       "      <td>8.3</td>\n",
       "      <td>7.7</td>\n",
       "    </tr>\n",
       "    <tr>\n",
       "      <th>1</th>\n",
       "      <td>2017</td>\n",
       "      <td>4.99</td>\n",
       "      <td>3.8</td>\n",
       "      <td>7.8</td>\n",
       "      <td>5.8</td>\n",
       "      <td>4.9</td>\n",
       "      <td>5</td>\n",
       "      <td>7.3</td>\n",
       "      <td>0</td>\n",
       "      <td>3.6</td>\n",
       "      <td>4.7</td>\n",
       "      <td>7.3</td>\n",
       "      <td>2.8</td>\n",
       "      <td>2.6</td>\n",
       "    </tr>\n",
       "    <tr>\n",
       "      <th>2</th>\n",
       "      <td>2017</td>\n",
       "      <td>5.4</td>\n",
       "      <td>3.4</td>\n",
       "      <td>8.1</td>\n",
       "      <td>6.7</td>\n",
       "      <td>8.8</td>\n",
       "      <td>4</td>\n",
       "      <td>6.5</td>\n",
       "      <td>5</td>\n",
       "      <td>6.8</td>\n",
       "      <td>3</td>\n",
       "      <td>5.6</td>\n",
       "      <td>3.2</td>\n",
       "      <td>3.7</td>\n",
       "    </tr>\n",
       "    <tr>\n",
       "      <th>3</th>\n",
       "      <td>2017</td>\n",
       "      <td>6.86</td>\n",
       "      <td>5.7</td>\n",
       "      <td>8.8</td>\n",
       "      <td>10</td>\n",
       "      <td>7.8</td>\n",
       "      <td>7.5</td>\n",
       "      <td>8.7</td>\n",
       "      <td>10</td>\n",
       "      <td>5.7</td>\n",
       "      <td>4</td>\n",
       "      <td>6.5</td>\n",
       "      <td>6.5</td>\n",
       "      <td>4.9</td>\n",
       "    </tr>\n",
       "    <tr>\n",
       "      <th>4</th>\n",
       "      <td>2017</td>\n",
       "      <td>7.42</td>\n",
       "      <td>4.9</td>\n",
       "      <td>9.1</td>\n",
       "      <td>8.3</td>\n",
       "      <td>6.2</td>\n",
       "      <td>6.5</td>\n",
       "      <td>7.2</td>\n",
       "      <td>8.2</td>\n",
       "      <td>7.4</td>\n",
       "      <td>5.9</td>\n",
       "      <td>9.5</td>\n",
       "      <td>8.2</td>\n",
       "      <td>7.4</td>\n",
       "    </tr>\n",
       "  </tbody>\n",
       "</table>\n",
       "</div>"
      ],
      "text/plain": [
       "   year hf_score pf_rol pf_ss pf_movement pf_religion pf_association  \\\n",
       "0  2017     7.84    5.3   9.3          10         9.2             10   \n",
       "1  2017     4.99    3.8   7.8         5.8         4.9              5   \n",
       "2  2017      5.4    3.4   8.1         6.7         8.8              4   \n",
       "3  2017     6.86    5.7   8.8          10         7.8            7.5   \n",
       "4  2017     7.42    4.9   9.1         8.3         6.2            6.5   \n",
       "\n",
       "  pf_expression pf_identity ef_government ef_legal ef_money ef_trade  \\\n",
       "0           8.6         5.8           7.5      5.1      9.6      8.3   \n",
       "1           7.3           0           3.6      4.7      7.3      2.8   \n",
       "2           6.5           5           6.8        3      5.6      3.2   \n",
       "3           8.7          10           5.7        4      6.5      6.5   \n",
       "4           7.2         8.2           7.4      5.9      9.5      8.2   \n",
       "\n",
       "  ef_trade_regulatory  \n",
       "0                 7.7  \n",
       "1                 2.6  \n",
       "2                 3.7  \n",
       "3                 4.9  \n",
       "4                 7.4  "
      ]
     },
     "execution_count": 2,
     "metadata": {},
     "output_type": "execute_result"
    }
   ],
   "source": [
    "freedom_df = pd.read_csv(\"Data/hfi_cc_2019.csv\")[['year', 'hf_score', 'pf_rol', \n",
    "                                                  'pf_ss', 'pf_movement','pf_religion', \n",
    "                                                  'pf_association', 'pf_expression', \n",
    "                                                  'pf_identity', 'ef_government', 'ef_legal', \n",
    "                                                  'ef_money', 'ef_trade', 'ef_trade_regulatory']]\n",
    "freedom_df.head()"
   ]
  },
  {
   "cell_type": "markdown",
   "metadata": {},
   "source": [
    "### Cleaning Data"
   ]
  },
  {
   "cell_type": "code",
   "execution_count": 3,
   "metadata": {},
   "outputs": [
    {
     "data": {
      "text/plain": [
       "'\\nEvery column consist of \\nobjects.\\n'"
      ]
     },
     "execution_count": 3,
     "metadata": {},
     "output_type": "execute_result"
    }
   ],
   "source": [
    "freedom_df.dtypes\n",
    "\"\"\"\n",
    "Every column consist of \n",
    "objects.\n",
    "\"\"\""
   ]
  },
  {
   "cell_type": "code",
   "execution_count": 4,
   "metadata": {},
   "outputs": [],
   "source": [
    "# Selecting desired year\n",
    "def year(df, year):\n",
    "    \"\"\"\n",
    "    Able to select rows with\n",
    "    desired year\n",
    "    \"\"\"\n",
    "    return df.loc[df[\"year\"] == year]\n",
    "\n",
    "freedom_df = year(freedom_df, 2017)"
   ]
  },
  {
   "cell_type": "code",
   "execution_count": 5,
   "metadata": {},
   "outputs": [
    {
     "data": {
      "text/plain": [
       "(162, 14)"
      ]
     },
     "execution_count": 5,
     "metadata": {},
     "output_type": "execute_result"
    }
   ],
   "source": [
    "freedom_df.shape"
   ]
  },
  {
   "cell_type": "markdown",
   "metadata": {},
   "source": [
    "Missing values in this dataset are filled with a dash(-)"
   ]
  },
  {
   "cell_type": "code",
   "execution_count": 6,
   "metadata": {},
   "outputs": [
    {
     "data": {
      "text/plain": [
       "26"
      ]
     },
     "execution_count": 6,
     "metadata": {},
     "output_type": "execute_result"
    }
   ],
   "source": [
    "# Finding rows with missing values\n",
    "missing_values = freedom_df.loc[freedom_df.pf_association == \"-\"]  # All nulls are located in pf_association column\n",
    "len(missing_values)  # 26/162 16.04% of our data is cut out"
   ]
  },
  {
   "cell_type": "code",
   "execution_count": 8,
   "metadata": {},
   "outputs": [],
   "source": [
    "# Dropping missing values\n",
    "freedom_df = freedom_df.drop(index=missing_values.index)"
   ]
  },
  {
   "cell_type": "code",
   "execution_count": 10,
   "metadata": {},
   "outputs": [
    {
     "data": {
      "text/plain": [
       "(136, 14)"
      ]
     },
     "execution_count": 10,
     "metadata": {},
     "output_type": "execute_result"
    }
   ],
   "source": [
    "freedom_df.shape"
   ]
  },
  {
   "cell_type": "markdown",
   "metadata": {},
   "source": [
    "### Change data types"
   ]
  },
  {
   "cell_type": "code",
   "execution_count": 14,
   "metadata": {},
   "outputs": [
    {
     "data": {
      "text/plain": [
       "year                   float64\n",
       "hf_score               float64\n",
       "pf_rol                 float64\n",
       "pf_ss                  float64\n",
       "pf_movement            float64\n",
       "pf_religion            float64\n",
       "pf_association         float64\n",
       "pf_expression          float64\n",
       "pf_identity            float64\n",
       "ef_government          float64\n",
       "ef_legal               float64\n",
       "ef_money               float64\n",
       "ef_trade               float64\n",
       "ef_trade_regulatory    float64\n",
       "dtype: object"
      ]
     },
     "execution_count": 14,
     "metadata": {},
     "output_type": "execute_result"
    }
   ],
   "source": [
    "# Changing all objects to floats\n",
    "freedom_df = freedom_df.astype(float)\n",
    "freedom_df.dtypes"
   ]
  }
 ],
 "metadata": {
  "kernelspec": {
   "display_name": "Python 3",
   "language": "python",
   "name": "python3"
  },
  "language_info": {
   "codemirror_mode": {
    "name": "ipython",
    "version": 3
   },
   "file_extension": ".py",
   "mimetype": "text/x-python",
   "name": "python",
   "nbconvert_exporter": "python",
   "pygments_lexer": "ipython3",
   "version": "3.8.1"
  }
 },
 "nbformat": 4,
 "nbformat_minor": 4
}
