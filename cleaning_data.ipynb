{
 "cells": [
  {
   "cell_type": "code",
   "execution_count": 1,
   "metadata": {},
   "outputs": [],
   "source": [
    "import pandas as pd\n",
    "import numpy as np\n",
    "\n",
    "import seaborn as sns\n",
    "import matplotlib.pyplot as plt\n",
    "%matplotlib inline\n",
    "\n",
    "from functions import *"
   ]
  },
  {
   "cell_type": "code",
   "execution_count": 2,
   "metadata": {},
   "outputs": [
    {
     "data": {
      "text/html": [
       "<div>\n",
       "<style scoped>\n",
       "    .dataframe tbody tr th:only-of-type {\n",
       "        vertical-align: middle;\n",
       "    }\n",
       "\n",
       "    .dataframe tbody tr th {\n",
       "        vertical-align: top;\n",
       "    }\n",
       "\n",
       "    .dataframe thead th {\n",
       "        text-align: right;\n",
       "    }\n",
       "</style>\n",
       "<table border=\"1\" class=\"dataframe\">\n",
       "  <thead>\n",
       "    <tr style=\"text-align: right;\">\n",
       "      <th></th>\n",
       "      <th>year</th>\n",
       "      <th>hf_score</th>\n",
       "      <th>pf_rol</th>\n",
       "      <th>pf_ss</th>\n",
       "      <th>pf_movement</th>\n",
       "      <th>pf_religion</th>\n",
       "      <th>pf_association</th>\n",
       "      <th>pf_expression</th>\n",
       "      <th>pf_identity</th>\n",
       "      <th>ef_government</th>\n",
       "      <th>ef_legal</th>\n",
       "      <th>ef_money</th>\n",
       "      <th>ef_trade</th>\n",
       "      <th>ef_trade_regulatory</th>\n",
       "    </tr>\n",
       "  </thead>\n",
       "  <tbody>\n",
       "    <tr>\n",
       "      <th>0</th>\n",
       "      <td>2017</td>\n",
       "      <td>7.84</td>\n",
       "      <td>5.3</td>\n",
       "      <td>9.3</td>\n",
       "      <td>10</td>\n",
       "      <td>9.2</td>\n",
       "      <td>10</td>\n",
       "      <td>8.6</td>\n",
       "      <td>5.8</td>\n",
       "      <td>7.5</td>\n",
       "      <td>5.1</td>\n",
       "      <td>9.6</td>\n",
       "      <td>8.3</td>\n",
       "      <td>7.7</td>\n",
       "    </tr>\n",
       "    <tr>\n",
       "      <th>1</th>\n",
       "      <td>2017</td>\n",
       "      <td>4.99</td>\n",
       "      <td>3.8</td>\n",
       "      <td>7.8</td>\n",
       "      <td>5.8</td>\n",
       "      <td>4.9</td>\n",
       "      <td>5</td>\n",
       "      <td>7.3</td>\n",
       "      <td>0</td>\n",
       "      <td>3.6</td>\n",
       "      <td>4.7</td>\n",
       "      <td>7.3</td>\n",
       "      <td>2.8</td>\n",
       "      <td>2.6</td>\n",
       "    </tr>\n",
       "    <tr>\n",
       "      <th>2</th>\n",
       "      <td>2017</td>\n",
       "      <td>5.4</td>\n",
       "      <td>3.4</td>\n",
       "      <td>8.1</td>\n",
       "      <td>6.7</td>\n",
       "      <td>8.8</td>\n",
       "      <td>4</td>\n",
       "      <td>6.5</td>\n",
       "      <td>5</td>\n",
       "      <td>6.8</td>\n",
       "      <td>3</td>\n",
       "      <td>5.6</td>\n",
       "      <td>3.2</td>\n",
       "      <td>3.7</td>\n",
       "    </tr>\n",
       "    <tr>\n",
       "      <th>3</th>\n",
       "      <td>2017</td>\n",
       "      <td>6.86</td>\n",
       "      <td>5.7</td>\n",
       "      <td>8.8</td>\n",
       "      <td>10</td>\n",
       "      <td>7.8</td>\n",
       "      <td>7.5</td>\n",
       "      <td>8.7</td>\n",
       "      <td>10</td>\n",
       "      <td>5.7</td>\n",
       "      <td>4</td>\n",
       "      <td>6.5</td>\n",
       "      <td>6.5</td>\n",
       "      <td>4.9</td>\n",
       "    </tr>\n",
       "    <tr>\n",
       "      <th>4</th>\n",
       "      <td>2017</td>\n",
       "      <td>7.42</td>\n",
       "      <td>4.9</td>\n",
       "      <td>9.1</td>\n",
       "      <td>8.3</td>\n",
       "      <td>6.2</td>\n",
       "      <td>6.5</td>\n",
       "      <td>7.2</td>\n",
       "      <td>8.2</td>\n",
       "      <td>7.4</td>\n",
       "      <td>5.9</td>\n",
       "      <td>9.5</td>\n",
       "      <td>8.2</td>\n",
       "      <td>7.4</td>\n",
       "    </tr>\n",
       "  </tbody>\n",
       "</table>\n",
       "</div>"
      ],
      "text/plain": [
       "   year hf_score pf_rol pf_ss pf_movement pf_religion pf_association  \\\n",
       "0  2017     7.84    5.3   9.3          10         9.2             10   \n",
       "1  2017     4.99    3.8   7.8         5.8         4.9              5   \n",
       "2  2017      5.4    3.4   8.1         6.7         8.8              4   \n",
       "3  2017     6.86    5.7   8.8          10         7.8            7.5   \n",
       "4  2017     7.42    4.9   9.1         8.3         6.2            6.5   \n",
       "\n",
       "  pf_expression pf_identity ef_government ef_legal ef_money ef_trade  \\\n",
       "0           8.6         5.8           7.5      5.1      9.6      8.3   \n",
       "1           7.3           0           3.6      4.7      7.3      2.8   \n",
       "2           6.5           5           6.8        3      5.6      3.2   \n",
       "3           8.7          10           5.7        4      6.5      6.5   \n",
       "4           7.2         8.2           7.4      5.9      9.5      8.2   \n",
       "\n",
       "  ef_trade_regulatory  \n",
       "0                 7.7  \n",
       "1                 2.6  \n",
       "2                 3.7  \n",
       "3                 4.9  \n",
       "4                 7.4  "
      ]
     },
     "execution_count": 2,
     "metadata": {},
     "output_type": "execute_result"
    }
   ],
   "source": [
    "freedom_df = pd.read_csv(\"Data/hfi_cc_2019.csv\")[['year', 'hf_score', 'pf_rol', \n",
    "                                                  'pf_ss', 'pf_movement','pf_religion', \n",
    "                                                  'pf_association', 'pf_expression', \n",
    "                                                  'pf_identity', 'ef_government', 'ef_legal', \n",
    "                                                  'ef_money', 'ef_trade', 'ef_trade_regulatory']]\n",
    "\n",
    "countries_regions_df = pd.read_csv(\"Data/hfi_cc_2019.csv\")[[\"year\", \"countries\", \"region\"]]\n",
    "\n",
    "freedom_df.head()"
   ]
  },
  {
   "cell_type": "code",
   "execution_count": 3,
   "metadata": {},
   "outputs": [
    {
     "data": {
      "text/html": [
       "<div>\n",
       "<style scoped>\n",
       "    .dataframe tbody tr th:only-of-type {\n",
       "        vertical-align: middle;\n",
       "    }\n",
       "\n",
       "    .dataframe tbody tr th {\n",
       "        vertical-align: top;\n",
       "    }\n",
       "\n",
       "    .dataframe thead th {\n",
       "        text-align: right;\n",
       "    }\n",
       "</style>\n",
       "<table border=\"1\" class=\"dataframe\">\n",
       "  <thead>\n",
       "    <tr style=\"text-align: right;\">\n",
       "      <th></th>\n",
       "      <th>year</th>\n",
       "      <th>countries</th>\n",
       "      <th>region</th>\n",
       "    </tr>\n",
       "  </thead>\n",
       "  <tbody>\n",
       "    <tr>\n",
       "      <th>0</th>\n",
       "      <td>2017</td>\n",
       "      <td>Albania</td>\n",
       "      <td>Eastern Europe</td>\n",
       "    </tr>\n",
       "    <tr>\n",
       "      <th>1</th>\n",
       "      <td>2017</td>\n",
       "      <td>Algeria</td>\n",
       "      <td>Middle East &amp; North Africa</td>\n",
       "    </tr>\n",
       "    <tr>\n",
       "      <th>2</th>\n",
       "      <td>2017</td>\n",
       "      <td>Angola</td>\n",
       "      <td>Sub-Saharan Africa</td>\n",
       "    </tr>\n",
       "    <tr>\n",
       "      <th>3</th>\n",
       "      <td>2017</td>\n",
       "      <td>Argentina</td>\n",
       "      <td>Latin America &amp; the Caribbean</td>\n",
       "    </tr>\n",
       "    <tr>\n",
       "      <th>4</th>\n",
       "      <td>2017</td>\n",
       "      <td>Armenia</td>\n",
       "      <td>Caucasus &amp; Central Asia</td>\n",
       "    </tr>\n",
       "  </tbody>\n",
       "</table>\n",
       "</div>"
      ],
      "text/plain": [
       "   year  countries                         region\n",
       "0  2017    Albania                 Eastern Europe\n",
       "1  2017    Algeria     Middle East & North Africa\n",
       "2  2017     Angola             Sub-Saharan Africa\n",
       "3  2017  Argentina  Latin America & the Caribbean\n",
       "4  2017    Armenia        Caucasus & Central Asia"
      ]
     },
     "execution_count": 3,
     "metadata": {},
     "output_type": "execute_result"
    }
   ],
   "source": [
    "countries_regions_df.head()"
   ]
  },
  {
   "cell_type": "markdown",
   "metadata": {},
   "source": [
    "### Cleaning Data"
   ]
  },
  {
   "cell_type": "code",
   "execution_count": 4,
   "metadata": {},
   "outputs": [
    {
     "data": {
      "text/plain": [
       "year                    int64\n",
       "hf_score               object\n",
       "pf_rol                 object\n",
       "pf_ss                  object\n",
       "pf_movement            object\n",
       "pf_religion            object\n",
       "pf_association         object\n",
       "pf_expression          object\n",
       "pf_identity            object\n",
       "ef_government          object\n",
       "ef_legal               object\n",
       "ef_money               object\n",
       "ef_trade               object\n",
       "ef_trade_regulatory    object\n",
       "dtype: object"
      ]
     },
     "execution_count": 4,
     "metadata": {},
     "output_type": "execute_result"
    }
   ],
   "source": [
    "\"\"\"\n",
    "Every column consist of \n",
    "objects.\n",
    "\"\"\"\n",
    "freedom_df.dtypes"
   ]
  },
  {
   "cell_type": "markdown",
   "metadata": {},
   "source": [
    "### Separting by years of 2010 and 2017"
   ]
  },
  {
   "cell_type": "code",
   "execution_count": 5,
   "metadata": {},
   "outputs": [],
   "source": [
    "# Selecting desired year\n",
    "def year(df, year):\n",
    "    \"\"\"\n",
    "    Able to select rows with\n",
    "    desired year\n",
    "    \"\"\"\n",
    "    return df.loc[df[\"year\"] == year]\n",
    "\n",
    "freedom_2017 = year(freedom_df, 2017)\n",
    "freedom_2010 = year(freedom_df, 2010)"
   ]
  },
  {
   "cell_type": "code",
   "execution_count": 6,
   "metadata": {},
   "outputs": [
    {
     "data": {
      "text/plain": [
       "(1620, 14)"
      ]
     },
     "execution_count": 6,
     "metadata": {},
     "output_type": "execute_result"
    }
   ],
   "source": [
    "freedom_df.shape"
   ]
  },
  {
   "cell_type": "markdown",
   "metadata": {},
   "source": [
    "Missing values in this dataset are filled with a dash(-)"
   ]
  },
  {
   "cell_type": "code",
   "execution_count": 7,
   "metadata": {},
   "outputs": [
    {
     "data": {
      "text/plain": [
       "26"
      ]
     },
     "execution_count": 7,
     "metadata": {},
     "output_type": "execute_result"
    }
   ],
   "source": [
    "# Finding rows with missing values\n",
    "missing_values = freedom_2017.loc[freedom_2017.pf_association == \"-\"]  # All nulls are located in pf_association column\n",
    "len(missing_values)  # 26/162 16.04% of our data is cut out"
   ]
  },
  {
   "cell_type": "code",
   "execution_count": 8,
   "metadata": {},
   "outputs": [],
   "source": [
    "# Dropping missing values\n",
    "freedom_2017 = freedom_2017.drop(index=missing_values.index)"
   ]
  },
  {
   "cell_type": "code",
   "execution_count": 9,
   "metadata": {},
   "outputs": [
    {
     "data": {
      "text/plain": [
       "(136, 14)"
      ]
     },
     "execution_count": 9,
     "metadata": {},
     "output_type": "execute_result"
    }
   ],
   "source": [
    "freedom_2017.shape"
   ]
  },
  {
   "cell_type": "code",
   "execution_count": 10,
   "metadata": {},
   "outputs": [],
   "source": [
    "# Replacing missing data with a numpy NaN\n",
    "def replace_missing_to_na(df):\n",
    "    for strings in df.values:\n",
    "        df.replace(\"-\", np.NaN, inplace=True)"
   ]
  },
  {
   "cell_type": "code",
   "execution_count": 11,
   "metadata": {},
   "outputs": [],
   "source": [
    "replace_missing_to_na(freedom_2017)"
   ]
  },
  {
   "cell_type": "code",
   "execution_count": 12,
   "metadata": {},
   "outputs": [
    {
     "data": {
      "text/plain": [
       "year                   0\n",
       "hf_score               0\n",
       "pf_rol                 0\n",
       "pf_ss                  0\n",
       "pf_movement            0\n",
       "pf_religion            0\n",
       "pf_association         0\n",
       "pf_expression          0\n",
       "pf_identity            0\n",
       "ef_government          0\n",
       "ef_legal               0\n",
       "ef_money               0\n",
       "ef_trade               0\n",
       "ef_trade_regulatory    0\n",
       "dtype: int64"
      ]
     },
     "execution_count": 12,
     "metadata": {},
     "output_type": "execute_result"
    }
   ],
   "source": [
    "freedom_2017.isna().sum()"
   ]
  },
  {
   "cell_type": "markdown",
   "metadata": {},
   "source": [
    "### Change data types"
   ]
  },
  {
   "cell_type": "code",
   "execution_count": 13,
   "metadata": {},
   "outputs": [],
   "source": [
    "# Changing all objects to floats\n",
    "# freedom_df = freedom_df.hf_score.astype(float)\n",
    "# freedom_df = freedom_df.pf_rol.astype(float)\n",
    "# freedom_df = freedom_df.pf_ss.astype(float)\n",
    "# freedom_df = freedom_df.pf_movement.astype(float)\n",
    "# freedom_df = freedom_df.pf_religion.astype(float)\n",
    "# freedom_df = freedom_df.pf_association.astype(float)\n",
    "# freedom_df = freedom_df.pf_expression.astype(float)\n",
    "# freedom_df = freedom_df.pf_identity.astype(float)\n",
    "# freedom_df = freedom_df.ef_government.astype(float)\n",
    "# freedom_df = freedom_df.ef_money.astype(float)\n",
    "# freedom_df = freedom_df.ef_trade.astype(float)\n",
    "# freedom_df = freedom_df.ef_trade_regulatory.astype(float)"
   ]
  },
  {
   "cell_type": "code",
   "execution_count": 14,
   "metadata": {},
   "outputs": [
    {
     "data": {
      "text/plain": [
       "year                    int64\n",
       "hf_score               object\n",
       "pf_rol                 object\n",
       "pf_ss                  object\n",
       "pf_movement            object\n",
       "pf_religion            object\n",
       "pf_association         object\n",
       "pf_expression          object\n",
       "pf_identity            object\n",
       "ef_government          object\n",
       "ef_legal               object\n",
       "ef_money               object\n",
       "ef_trade               object\n",
       "ef_trade_regulatory    object\n",
       "dtype: object"
      ]
     },
     "execution_count": 14,
     "metadata": {},
     "output_type": "execute_result"
    }
   ],
   "source": [
    "freedom_2017.dtypes"
   ]
  },
  {
   "cell_type": "code",
   "execution_count": 18,
   "metadata": {},
   "outputs": [],
   "source": [
    "# Chaning data type to a float\n",
    "freedom_2017 = freedom_2017.astype(float)"
   ]
  },
  {
   "cell_type": "markdown",
   "metadata": {},
   "source": [
    "### Removing outliers\n",
    "\n",
    "Removing outliers will help the regression model with accuracy"
   ]
  },
  {
   "cell_type": "code",
   "execution_count": 19,
   "metadata": {},
   "outputs": [
    {
     "data": {
      "text/plain": [
       "<matplotlib.axes._subplots.AxesSubplot at 0x135bb13d0>"
      ]
     },
     "execution_count": 19,
     "metadata": {},
     "output_type": "execute_result"
    },
    {
     "data": {
      "image/png": "[encoded data removed]",
      "text/plain": [
       "<Figure size 720x648 with 8 Axes>"
      ]
     },
     "metadata": {
      "needs_background": "light"
     },
     "output_type": "display_data"
    }
   ],
   "source": [
    "# Creating subplots to plot the outliers in the dataframe\n",
    "# Everything is in order from left to right\n",
    "\n",
    "fig, ax = plt.subplots(2, 4, figsize=(10, 9))\n",
    "sns.boxplot(data=freedom_2017.pf_ss, ax=ax[0][0])\n",
    "sns.boxplot(data=freedom_2017.pf_movement, ax=ax[0][1])\n",
    "sns.boxplot(data=freedom_2017.pf_religion, ax=ax[0][2])\n",
    "sns.boxplot(data=freedom_2017.pf_expression, ax=ax[0][3])\n",
    "sns.boxplot(data=freedom_2017.ef_government, ax=ax[1][0])\n",
    "sns.boxplot(data=freedom_2017.ef_money, ax=ax[1][1])\n",
    "sns.boxplot(data=freedom_2017.ef_trade, ax=ax[1][2])"
   ]
  },
  {
   "cell_type": "markdown",
   "metadata": {},
   "source": [
    "# Do Not Run These Cells\n",
    "\n",
    "You can remove the outliers from the first, second and last because those have the most outliers"
   ]
  },
  {
   "cell_type": "code",
   "execution_count": 20,
   "metadata": {},
   "outputs": [],
   "source": [
    "# Removing outliers in pf_ss\n",
    "\"\"\"\n",
    "There are 3 outliers\n",
    "that are lower than the\n",
    "min value of 4.9 or 5\n",
    "\"\"\"\n",
    "freedom_2017.pf_ss.unique()  # Looking at all of the values\n",
    "\n",
    "# pf_ss values have to be than 4.8\n",
    "freedom_2017 = freedom_2017.loc[freedom_2017.pf_ss > 4.8]"
   ]
  },
  {
   "cell_type": "code",
   "execution_count": null,
   "metadata": {},
   "outputs": [],
   "source": [
    "# Removing outliers in pf_movement\n",
    "\"\"\"\n",
    "There are 3 outliers\n",
    "that are lower than the\n",
    "min of 2.3\n",
    "\"\"\"\n",
    "freedom_2017.pf_movement.unique()\n",
    "\n",
    "freedom_2017 = freedom_2017.loc[freedom_2017.pf_movement > 2]"
   ]
  },
  {
   "cell_type": "code",
   "execution_count": null,
   "metadata": {},
   "outputs": [],
   "source": [
    "# Removing outliers from pf_religion\n",
    "\"\"\"\n",
    "There is 1 outlier\n",
    "that is below the min\n",
    "of 3\n",
    "\"\"\"\n",
    "freedom_2017.pf_religion.unique()\n",
    "\n",
    "freedom_2017 = freedom_2017.loc[freedom_2017.pf_religion > 5.5]"
   ]
  },
  {
   "cell_type": "code",
   "execution_count": null,
   "metadata": {},
   "outputs": [],
   "source": [
    "# Removing outliers from pf_expression\n",
    "\"\"\"\n",
    "There is 1 outlier\n",
    "that is below the min\n",
    "value of 3.5\n",
    "\"\"\"\n",
    "freedom_2017.pf_expression.unique()\n",
    "\n",
    "freedom_2017 = freedom_2017.loc[freedom_2017.pf_expression > 5]"
   ]
  },
  {
   "cell_type": "code",
   "execution_count": null,
   "metadata": {},
   "outputs": [],
   "source": [
    "# Removing outliers from ef_government\n",
    "\"\"\"\n",
    "There is 1 outlier\n",
    "that is below the min\n",
    "value of 3.5\n",
    "\"\"\"\n",
    "freedom_2017.ef_government.values.min()  # lowest value is 3.6\n",
    "\n",
    "freedom_2017 = freedom_2017.loc[freedom_2017.ef_government > 3.6]"
   ]
  },
  {
   "cell_type": "code",
   "execution_count": null,
   "metadata": {},
   "outputs": [],
   "source": [
    "# Removing outliers from ef_money\n",
    "\"\"\"\n",
    "There is 1 outlier\n",
    "that is below the min value\n",
    "of 4.3\n",
    "\"\"\"\n",
    "freedom_2017 = freedom_2017.loc[freedom_2017.ef_money > 5.9]"
   ]
  },
  {
   "cell_type": "code",
   "execution_count": null,
   "metadata": {},
   "outputs": [],
   "source": [
    "# Removing outliers from ef_trade\n",
    "\"\"\"\n",
    "There are 4 outliers\n",
    "that are below the min\n",
    "value of 4.6\n",
    "\"\"\"\n",
    "freedom_2017.ef_trade.unique()\n",
    "\n",
    "freedom_2017 = freedom_2017.loc[freedom_2017.ef_trade > 4]"
   ]
  },
  {
   "cell_type": "code",
   "execution_count": null,
   "metadata": {},
   "outputs": [],
   "source": [
    "# Function that gets rid of outliers in the data\n",
    "def outliers():\n",
    "    freedom_2017 = freedom_2017.loc[freedom_2017.pf_ss > 4.8]\n",
    "    freedom_2017 = freedom_2017.loc[freedom_2017.pf_movement > 2]\n",
    "    freedom_2017 = freedom_2017.loc[freedom_2017.pf_religion > 0]\n",
    "    freedom_2017 = freedom_2017.loc[freedom_2017.pf_expression > 3.2]\n",
    "    freedom_2017 = freedom_2017.loc[freedom_2017.ef_government > 3.6]\n",
    "    freedom_2017 = freedom_2017.loc[freedom_2017.ef_money > 2]\n",
    "    freedom_2017 = freedom_2017.loc[freedom_2017.ef_trade > 4]"
   ]
  },
  {
   "cell_type": "code",
   "execution_count": null,
   "metadata": {},
   "outputs": [],
   "source": [
    "freedom_2017.shape"
   ]
  },
  {
   "cell_type": "code",
   "execution_count": null,
   "metadata": {},
   "outputs": [],
   "source": [
    "# Replacing missing data with a numpy NaN\n",
    "def replace_missing_to_na(df):\n",
    "    for strings in df.values:\n",
    "        df.replace(\"-\", np.NaN, inplace=True)"
   ]
  },
  {
   "cell_type": "code",
   "execution_count": null,
   "metadata": {},
   "outputs": [],
   "source": []
  }
 ],
 "metadata": {
  "kernelspec": {
   "display_name": "Python 3",
   "language": "python",
   "name": "python3"
  },
  "language_info": {
   "codemirror_mode": {
    "name": "ipython",
    "version": 3
   },
   "file_extension": ".py",
   "mimetype": "text/x-python",
   "name": "python",
   "nbconvert_exporter": "python",
   "pygments_lexer": "ipython3",
   "version": "3.8.1"
  }
 },
 "nbformat": 4,
 "nbformat_minor": 4
}
